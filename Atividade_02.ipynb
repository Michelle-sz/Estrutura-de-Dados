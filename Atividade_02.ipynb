{
  "nbformat": 4,
  "nbformat_minor": 0,
  "metadata": {
    "colab": {
      "provenance": [],
      "authorship_tag": "ABX9TyPHKCQOH6EpfvAtwHADYapb",
      "include_colab_link": true
    },
    "kernelspec": {
      "name": "python3",
      "display_name": "Python 3"
    },
    "language_info": {
      "name": "python"
    }
  },
  "cells": [
    {
      "cell_type": "markdown",
      "metadata": {
        "id": "view-in-github",
        "colab_type": "text"
      },
      "source": [
        "<a href=\"https://colab.research.google.com/github/Michelle-sz/Estrutura-de-Dados/blob/main/Atividade_02.ipynb\" target=\"_parent\"><img src=\"https://colab.research.google.com/assets/colab-badge.svg\" alt=\"Open In Colab\"/></a>"
      ]
    },
    {
      "cell_type": "code",
      "execution_count": 1,
      "metadata": {
        "colab": {
          "base_uri": "https://localhost:8080/"
        },
        "id": "5X5E0nOYJcze",
        "outputId": "df78cc1e-0982-4b2f-875d-80b5c14a6097"
      },
      "outputs": [
        {
          "output_type": "stream",
          "name": "stdout",
          "text": [
            "Digite a data de inicio desejada (AAAA-MM-DD): 2025/03/05\n",
            "Digite a data de final desejada (AAAA-MM-DD): 2025/03/07\n",
            "Nenhum asteroide encontrado\n"
          ]
        }
      ],
      "source": [
        "import requests\n",
        "api_key = \"UhiDbX5IFOeD0sRSY11hitBuzqAF4LUW1lZCNhBo\"\n",
        "\n",
        "def requisicao(data_inicio, data_final, api_key):\n",
        "    url = f\"https://api.nasa.gov/neo/rest/v1/feed?start_date={data_inicio}&end_date={data_final}&api_key={api_key}\"\n",
        "\n",
        "    resposta = requests.get(url)\n",
        "    return resposta.json() if resposta.status_code == 200 else {'Erro': 'Falha na requisição'}\n",
        "\n",
        "\n",
        "def processar_dados_asteroides(dados, data_inicio, data_final):\n",
        "    asteroides_info = []\n",
        "\n",
        "    if \"near_earth_objects\" in dados:\n",
        "\n",
        "        for data in dados[\"near_earth_objects\"]:\n",
        "            if data_inicio <= data <= data_final:\n",
        "                for asteroide in dados[\"near_earth_objects\"][data]:\n",
        "                    info = {\n",
        "                        \"Nome\": asteroide[\"name\"],\n",
        "                        \"Diâmetro Máximo (m)\": asteroide[\"estimated_diameter\"][\"meters\"][\"estimated_diameter_max\"],\n",
        "                        \"Velocidade (km/h)\": asteroide[\"close_approach_data\"][0][\"relative_velocity\"][\"kilometers_per_hour\"],\n",
        "                        \"Distância da Terra (km)\": asteroide[\"close_approach_data\"][0][\"miss_distance\"][\"kilometers\"],\n",
        "                        \"Potencialmente Perigoso\": \"Sim\" if asteroide[\"is_potentially_hazardous_asteroid\"] else \"Não\"\n",
        "                    }\n",
        "                    asteroides_info.append(info)\n",
        "\n",
        "    return asteroides_info\n",
        "\n",
        "def exibir_asteroides(asteroides, data_inicio, data_final):\n",
        "    if not asteroides:\n",
        "        print(\"Nenhum asteroide encontrado\")\n",
        "        return\n",
        "\n",
        "    print(f\"\\n Asteroides Próximos à Terra entre {data_inicio } e {data_final}:\")\n",
        "    for i, asteroide in enumerate(asteroides, start=1):\n",
        "        print(f\"\\nAsteroide {i}:\")\n",
        "        for chave, valor in asteroide.items():\n",
        "            print(f\"  {chave}: {valor}\")\n",
        "\n",
        "data_inicio = input(\"Digite a data de inicio desejada (AAAA-MM-DD): \")\n",
        "data_final = input(\"Digite a data de final desejada (AAAA-MM-DD): \")\n",
        "\n",
        "dados = requisicao(data_inicio, data_final, api_key)\n",
        "\n",
        "if dados:\n",
        "    asteroides = processar_dados_asteroides(dados, data_inicio, data_final)\n",
        "    exibir_asteroides(asteroides, data_inicio, data_final)\n"
      ]
    }
  ]
}