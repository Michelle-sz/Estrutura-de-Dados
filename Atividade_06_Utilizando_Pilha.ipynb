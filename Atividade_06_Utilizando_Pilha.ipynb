{
  "nbformat": 4,
  "nbformat_minor": 0,
  "metadata": {
    "colab": {
      "provenance": [],
      "authorship_tag": "ABX9TyOEWOTqx8S34jRxY9HXkTC7",
      "include_colab_link": true
    },
    "kernelspec": {
      "name": "python3",
      "display_name": "Python 3"
    },
    "language_info": {
      "name": "python"
    }
  },
  "cells": [
    {
      "cell_type": "markdown",
      "metadata": {
        "id": "view-in-github",
        "colab_type": "text"
      },
      "source": [
        "<a href=\"https://colab.research.google.com/github/Michelle-sz/Estrutura-de-Dados/blob/main/Atividade_06_Utilizando_Pilha.ipynb\" target=\"_parent\"><img src=\"https://colab.research.google.com/assets/colab-badge.svg\" alt=\"Open In Colab\"/></a>"
      ]
    },
    {
      "cell_type": "markdown",
      "source": [
        "# **Atividade 06 - Utilizando Pilha**\n",
        "\n",
        "\n",
        "Alunos:\n",
        "\n",
        "\n",
        "Michelle De Sales Silva\n",
        "\n",
        "Nathan Bernardo Novais De Melo\n"
      ],
      "metadata": {
        "id": "6M0Tc0LZlFSb"
      }
    },
    {
      "cell_type": "code",
      "source": [
        "class HistoricoNavegacao:\n",
        "    def __init__(self):\n",
        "        self.pilha = []\n",
        "\n",
        "\n",
        "    # Adiciona uma nova URL à pilha, simulando a visita a uma nova página.\n",
        "    def visitar_pagina(self, url):\n",
        "        self.pilha.append(url)\n",
        "        print(f\"Visitando: {url}\")\n",
        "\n",
        "\n",
        "    # Remove e retorna a URL no topo da pilha, simulando o retorno à página anterior. Se a pilha estiver vazia, retorne uma mensagem informando que não há mais páginas para voltar.\n",
        "    def voltar(self):\n",
        "        if not self.pilha:\n",
        "            print(\"Não há mais páginas para voltar.\")\n",
        "        url_removida = self.pilha.pop()\n",
        "        print(f\"Voltando da página: {url_removida}\")\n",
        "        if self.pilha:\n",
        "            print(f\"Página atual: {self.pilha[-1]}\")\n",
        "            return self.pilha[-1]\n",
        "        else:\n",
        "            print(\"Nenhuma página atual.\")\n",
        "            return None\n",
        "\n",
        "\n",
        "    # Exibe todas as URLs na pilha, do topo (última página visitada) para a base (primeira página visitada).\n",
        "    def exibir_historico(self):\n",
        "        if not self.pilha:\n",
        "            print(\"Histórico vazio.\")\n",
        "        else:\n",
        "            print(\"Histórico de navegação (MAIS RECENTE para a MAIS ANTIGA):\")\n",
        "            for url in reversed(self.pilha):\n",
        "                print(url)\n",
        "\n",
        "\n",
        "    #Retorna a URL da página que o usuário está visualizando no momento, ou seja, o topo da pilha.\n",
        "    def pagina_atual(self):\n",
        "        if self.pilha:\n",
        "            return self.pilha[-1]\n",
        "        else:\n",
        "            return \"Nenhuma página atual.\"\n",
        "\n",
        "\n",
        "\n",
        "\n",
        "historico = HistoricoNavegacao()\n",
        "\n",
        "\n",
        "historico.visitar_pagina(\"https://www.fatecjd.edu.br\")\n",
        "historico.visitar_pagina(\"https://www.google.com\")\n",
        "historico.visitar_pagina(\"https://www.github.com\")\n",
        "\n",
        "# Exibir o histórico de navegação\n",
        "print(\"\\nHistórico de navegação:\")\n",
        "historico.exibir_historico()\n",
        "\n",
        "# Voltar para a página anterior\n",
        "print(\"\\nVoltando para a página anterior:\")\n",
        "print(historico.voltar())\n",
        "\n",
        "# Exibir o histórico novamente\n",
        "print(\"\\nHistórico de navegação atualizado:\")\n",
        "historico.exibir_historico()\n",
        "\n",
        "\n"
      ],
      "metadata": {
        "colab": {
          "base_uri": "https://localhost:8080/"
        },
        "id": "k7cxk8StbCk0",
        "outputId": "97008e37-9472-4403-c552-a01a93ff90a9"
      },
      "execution_count": 9,
      "outputs": [
        {
          "output_type": "stream",
          "name": "stdout",
          "text": [
            "Visitando: https://www.fatecjd.edu.br\n",
            "Visitando: https://www.google.com\n",
            "Visitando: https://www.github.com\n",
            "\n",
            "Histórico de navegação:\n",
            "Histórico de navegação (MAIS RECENTE para a MAIS ANTIGA):\n",
            "https://www.github.com\n",
            "https://www.google.com\n",
            "https://www.fatecjd.edu.br\n",
            "\n",
            "Voltando para a página anterior:\n",
            "Voltando da página: https://www.github.com\n",
            "Página atual: https://www.google.com\n",
            "https://www.google.com\n",
            "\n",
            "Histórico de navegação atualizado:\n",
            "Histórico de navegação (MAIS RECENTE para a MAIS ANTIGA):\n",
            "https://www.google.com\n",
            "https://www.fatecjd.edu.br\n"
          ]
        }
      ]
    }
  ]
}