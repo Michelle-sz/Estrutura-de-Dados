{
  "nbformat": 4,
  "nbformat_minor": 0,
  "metadata": {
    "colab": {
      "provenance": [],
      "authorship_tag": "ABX9TyOqOM6s0C5jQAZdIbRBN3jU",
      "include_colab_link": true
    },
    "kernelspec": {
      "name": "python3",
      "display_name": "Python 3"
    },
    "language_info": {
      "name": "python"
    }
  },
  "cells": [
    {
      "cell_type": "markdown",
      "metadata": {
        "id": "view-in-github",
        "colab_type": "text"
      },
      "source": [
        "<a href=\"https://colab.research.google.com/github/Michelle-sz/Estrutura-de-Dados/blob/main/Atividade_01.ipynb\" target=\"_parent\"><img src=\"https://colab.research.google.com/assets/colab-badge.svg\" alt=\"Open In Colab\"/></a>"
      ]
    },
    {
      "cell_type": "markdown",
      "source": [
        "# **ESTRUTURA DE DADOS - ATIVIDADE 01**\n",
        "\n",
        "### Michelle De Sales Silva\n",
        "\n",
        "### Nathan Bernardo Novais De Melo\n"
      ],
      "metadata": {
        "id": "WWriyOHPkpug"
      }
    },
    {
      "cell_type": "markdown",
      "source": [
        "### 1.  Crie uma lista contendo os nomes de cinco cidades e exiba cada uma delas em linhas separadas usando um loop for.\n"
      ],
      "metadata": {
        "id": "dCgkILgddTJ_"
      }
    },
    {
      "cell_type": "code",
      "execution_count": 1,
      "metadata": {
        "colab": {
          "base_uri": "https://localhost:8080/"
        },
        "id": "68QLF4JmbH8I",
        "outputId": "01898db4-0033-45e7-ca61-bd627f410146"
      },
      "outputs": [
        {
          "output_type": "stream",
          "name": "stdout",
          "text": [
            "Sao Paulo\n",
            "Belo Horizonte\n",
            "Recife\n",
            "Goiania\n",
            "Curitiba\n"
          ]
        }
      ],
      "source": [
        "#RESOLUÇÃO 01\n",
        "\n",
        "cidades = [\"Sao Paulo\", \"Belo Horizonte\", \"Recife\", \"Goiania\", \"Curitiba\"]\n",
        "\n",
        "for cidade in cidades:\n",
        "    print(cidade)"
      ]
    },
    {
      "cell_type": "markdown",
      "source": [
        "### 2. Crie uma lista contendo os quadrados dos números de 1 a 10 usando compreensão de listas."
      ],
      "metadata": {
        "id": "G3mi2tYBeKlX"
      }
    },
    {
      "cell_type": "code",
      "source": [
        "#RESOLUÇÃO 02\n",
        "\n",
        "quadrados = [x**2 for x in range(1, 11)]\n",
        "print(quadrados)\n"
      ],
      "metadata": {
        "colab": {
          "base_uri": "https://localhost:8080/"
        },
        "id": "0uTVfkLKeYZW",
        "outputId": "295455b1-4831-442b-e0b9-813072ac2bab"
      },
      "execution_count": 2,
      "outputs": [
        {
          "output_type": "stream",
          "name": "stdout",
          "text": [
            "[1, 4, 9, 16, 25, 36, 49, 64, 81, 100]\n"
          ]
        }
      ]
    },
    {
      "cell_type": "markdown",
      "source": [
        "### 3. Dada a lista abaixo, escreva comandos para:\n",
        "\n",
        "* Exibir os três primeiros elementos\n",
        "* Exibir os três últimos elementos\n",
        "* Exibir os elementos nas posições pares\n",
        "\n",
        "\n",
        "    numeros = [10, 20, 30, 40, 50, 60, 70, 80, 90, 100]\n",
        "\n",
        "\n",
        "\n",
        "\n"
      ],
      "metadata": {
        "id": "XHE8G9G_fB8m"
      }
    },
    {
      "cell_type": "code",
      "source": [
        "#RESOLUÇÃO 03\n",
        "\n",
        "numbers = [10, 20, 30, 40, 50, 60, 70, 80, 90, 100]\n",
        "\n",
        "print(numbers[0:3]) #Tres primeiros elementos\n",
        "print(numbers[-3:]) #Tres ultimos elementos\n",
        "print(numbers[1::2]) #Elementos pares"
      ],
      "metadata": {
        "colab": {
          "base_uri": "https://localhost:8080/"
        },
        "id": "J9BhwasDey6O",
        "outputId": "90f977b0-4590-489a-8854-8844033e9368"
      },
      "execution_count": 3,
      "outputs": [
        {
          "output_type": "stream",
          "name": "stdout",
          "text": [
            "[10, 20, 30]\n",
            "[80, 90, 100]\n",
            "[20, 40, 60, 80, 100]\n"
          ]
        }
      ]
    },
    {
      "cell_type": "markdown",
      "source": [
        "### 4. Crie uma tupla contendo cinco cores. Depois, tente modificar um dos elementos da tupla e observe o que acontece."
      ],
      "metadata": {
        "id": "rm2WhqzVgYdH"
      }
    },
    {
      "cell_type": "code",
      "source": [
        "#RESOLUÇÃO 04\n",
        "\n",
        "tupla = (\"roxo\", \"azul\", \"vermelho\", \"branco\", \"preto\")\n",
        "tupla[1] = \"amarelo\"\n",
        "print(tupla)"
      ],
      "metadata": {
        "colab": {
          "base_uri": "https://localhost:8080/",
          "height": 176
        },
        "id": "eNEYXV4GgkH-",
        "outputId": "00b53872-882d-4081-de95-9779fe5a34d7"
      },
      "execution_count": 4,
      "outputs": [
        {
          "output_type": "error",
          "ename": "TypeError",
          "evalue": "'tuple' object does not support item assignment",
          "traceback": [
            "\u001b[0;31m---------------------------------------------------------------------------\u001b[0m",
            "\u001b[0;31mTypeError\u001b[0m                                 Traceback (most recent call last)",
            "\u001b[0;32m<ipython-input-4-990240e07c87>\u001b[0m in \u001b[0;36m<cell line: 0>\u001b[0;34m()\u001b[0m\n\u001b[1;32m      1\u001b[0m \u001b[0mtupla\u001b[0m \u001b[0;34m=\u001b[0m \u001b[0;34m(\u001b[0m\u001b[0;34m\"roxo\"\u001b[0m\u001b[0;34m,\u001b[0m \u001b[0;34m\"azul\"\u001b[0m\u001b[0;34m,\u001b[0m \u001b[0;34m\"vermelho\"\u001b[0m\u001b[0;34m,\u001b[0m \u001b[0;34m\"branco\"\u001b[0m\u001b[0;34m,\u001b[0m \u001b[0;34m\"preto\"\u001b[0m\u001b[0;34m)\u001b[0m\u001b[0;34m\u001b[0m\u001b[0;34m\u001b[0m\u001b[0m\n\u001b[0;32m----> 2\u001b[0;31m \u001b[0mtupla\u001b[0m\u001b[0;34m[\u001b[0m\u001b[0;36m1\u001b[0m\u001b[0;34m]\u001b[0m \u001b[0;34m=\u001b[0m \u001b[0;34m\"amarelo\"\u001b[0m\u001b[0;34m\u001b[0m\u001b[0;34m\u001b[0m\u001b[0m\n\u001b[0m\u001b[1;32m      3\u001b[0m \u001b[0mprint\u001b[0m\u001b[0;34m(\u001b[0m\u001b[0mtupla\u001b[0m\u001b[0;34m)\u001b[0m\u001b[0;34m\u001b[0m\u001b[0;34m\u001b[0m\u001b[0m\n",
            "\u001b[0;31mTypeError\u001b[0m: 'tuple' object does not support item assignment"
          ]
        }
      ]
    },
    {
      "cell_type": "markdown",
      "source": [
        "### 5. Dado o conjunto de números abaixo, escreva um código que:\n",
        "\n",
        "* Adicione um novo número ao conjunto\n",
        "* Tente adicionar um número repetido e veja o que acontece\n",
        "* Remova um número do conjunto\n",
        "\n",
        "\n",
        "    numeros = {2, 4, 6, 8, 10}"
      ],
      "metadata": {
        "id": "EKCFMHHviDml"
      }
    },
    {
      "cell_type": "code",
      "source": [
        "#RESOLUÇÃO 05\n",
        "\n",
        "n = {2, 4, 6, 8, 10}\n",
        "\n",
        "n.add(12) #adicionado numero 12.\n",
        "print(n)\n",
        "\n",
        "n.add(4) #tentando adicionar numero 4 novamente.\n",
        "print(n)\n",
        "\n",
        "n.remove(4) #numero 4 removido\n",
        "print(n)"
      ],
      "metadata": {
        "colab": {
          "base_uri": "https://localhost:8080/"
        },
        "id": "tFyVIJEKiT3G",
        "outputId": "7f918c17-dbbd-4211-8f50-31659599d02e"
      },
      "execution_count": 5,
      "outputs": [
        {
          "output_type": "stream",
          "name": "stdout",
          "text": [
            "{2, 4, 6, 8, 10, 12}\n",
            "{2, 4, 6, 8, 10, 12}\n",
            "{2, 6, 8, 10, 12}\n"
          ]
        }
      ]
    }
  ]
}