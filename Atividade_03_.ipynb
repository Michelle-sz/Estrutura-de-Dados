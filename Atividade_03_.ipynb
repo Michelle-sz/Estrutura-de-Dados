{
  "nbformat": 4,
  "nbformat_minor": 0,
  "metadata": {
    "colab": {
      "provenance": [],
      "authorship_tag": "ABX9TyPkkFc+7sPENySc4FvMxO7G",
      "include_colab_link": true
    },
    "kernelspec": {
      "name": "python3",
      "display_name": "Python 3"
    },
    "language_info": {
      "name": "python"
    }
  },
  "cells": [
    {
      "cell_type": "markdown",
      "metadata": {
        "id": "view-in-github",
        "colab_type": "text"
      },
      "source": [
        "<a href=\"https://colab.research.google.com/github/Michelle-sz/Estrutura-de-Dados/blob/main/Atividade_03_.ipynb\" target=\"_parent\"><img src=\"https://colab.research.google.com/assets/colab-badge.svg\" alt=\"Open In Colab\"/></a>"
      ]
    },
    {
      "cell_type": "markdown",
      "source": [
        "# **Atividade 03 - Usando kwargs e lambda**\n",
        "\n",
        "**Alunos:**\n",
        "\n",
        "### Michelle de Sales Silva\n",
        "\n",
        "### Nathan Bernardo Novais de Melo\n"
      ],
      "metadata": {
        "id": "vSU3SXO9dS36"
      }
    },
    {
      "cell_type": "code",
      "execution_count": null,
      "metadata": {
        "id": "Mt0TKQ8HU2C1"
      },
      "outputs": [],
      "source": [
        "pip install requests"
      ]
    },
    {
      "cell_type": "code",
      "source": [
        "import requests\n",
        "\n",
        "def get_cryptos(vs_currency='usd', limit=50):\n",
        "    url = \"https://api.coingecko.com/api/v3/coins/markets\"\n",
        "    params = {\n",
        "        'vs_currency': vs_currency,\n",
        "        'order': 'market_cap_desc',\n",
        "        'per_page': limit,\n",
        "        'page': 1,\n",
        "        'sparkline': False\n",
        "    }\n",
        "    response = requests.get(url, params=params)\n",
        "    return response.json()\n",
        "\n",
        "def filter_cryptos(data, **kwargs):\n",
        "    for key, value in kwargs.items():\n",
        "        data = list(filter(lambda c: c.get(key, 0) >= value, data))\n",
        "    return data\n",
        "\n",
        "if __name__ == \"__main__\":\n",
        "    moedas = get_cryptos()\n",
        "\n",
        "    filtradas = filter_cryptos(moedas, current_price=1000)\n",
        "\n",
        "    for m in filtradas:\n",
        "        print(f\"{m['name']} ({m['symbol'].upper()}) - Preço: ${m['current_price']}\")\n",
        "\n",
        "\n",
        "\n",
        "\n"
      ],
      "metadata": {
        "id": "6ZGDmhvXX3wP"
      },
      "execution_count": null,
      "outputs": []
    },
    {
      "cell_type": "markdown",
      "source": [
        "1. A API utilizada foi a CoinGecko AP. Ela permite visualizar dados sobre criptomoedas e permite diversas análises, como comparação de preços, filtros por valor de mercado, etc.\n",
        "\n",
        "2. Nome da moeda, simbolo, preço atual.\n",
        "\n",
        "3. lambda foi usado para filtrar as criptomoedas com base em critérios como o preço definido. Foi  util pois de forma rapida e possivel  criar os filtros personalisados para as moedas.\n"
      ],
      "metadata": {
        "id": "RCsMXoa9dLRq"
      }
    }
  ]
}