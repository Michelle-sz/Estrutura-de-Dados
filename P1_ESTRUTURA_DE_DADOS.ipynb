{
  "nbformat": 4,
  "nbformat_minor": 0,
  "metadata": {
    "colab": {
      "provenance": [],
      "include_colab_link": true
    },
    "kernelspec": {
      "name": "python3",
      "display_name": "Python 3"
    },
    "language_info": {
      "name": "python"
    }
  },
  "cells": [
    {
      "cell_type": "markdown",
      "metadata": {
        "id": "view-in-github",
        "colab_type": "text"
      },
      "source": [
        "<a href=\"https://colab.research.google.com/github/Michelle-sz/Estrutura-de-Dados/blob/main/P1_ESTRUTURA_DE_DADOS.ipynb\" target=\"_parent\"><img src=\"https://colab.research.google.com/assets/colab-badge.svg\" alt=\"Open In Colab\"/></a>"
      ]
    },
    {
      "cell_type": "markdown",
      "source": [
        "#1 - Geração de Dados"
      ],
      "metadata": {
        "id": "pHoIzIhaC0AR"
      }
    },
    {
      "cell_type": "code",
      "execution_count": null,
      "metadata": {
        "id": "Fpr-R1Bvv7tJ"
      },
      "outputs": [],
      "source": [
        "!pip install faker\n",
        "\n",
        "from faker import Faker\n",
        "import pandas as pd\n",
        "import random\n",
        "\n",
        "fake = Faker(\"pt_BR\")\n",
        "\n",
        "n_pessoas = 800\n",
        "\n",
        "escolaridade = [\n",
        "    \"Sem instrução\",\n",
        "    \"Ensino Fundamental Incompleto\",\n",
        "    \"Ensino Fundamental Completo\",\n",
        "    \"Ensino Médio Incompleto\",\n",
        "    \"Ensino Médio Completo\",\n",
        "    \"Ensino Superior Incompleto\",\n",
        "    \"Ensino Superior Completo\",\n",
        "    \"Pós-graduação\",\n",
        "    \"Mestrado\",\n",
        "    \"Doutorado\"\n",
        "]\n",
        "\n",
        "generos = [\"Masculino\", \"Feminino\", \"Outro\"]\n",
        "\n",
        "nomes = [fake.name() for _ in range(n_pessoas)]\n",
        "idades = [fake.random_int(min=18, max=65) for _ in range(n_pessoas)]\n",
        "nivel_escolar = [fake.random_element(escolaridade) for _ in range(n_pessoas)]\n",
        "genero = [fake.random_element(generos) for _ in range(n_pessoas)]\n",
        "salarios = [round(random.uniform(800, 10000), 2) for _ in range(n_pessoas)]\n",
        "cidades = [fake.city() for _ in range(n_pessoas)]\n",
        "\n",
        "df = pd.DataFrame({\n",
        "    'Nome': nomes,\n",
        "    'Idade': idades,\n",
        "    'Nível de Escolaridade': nivel_escolar,\n",
        "    'Gênero': genero,\n",
        "    'Salário (R$)': salarios,\n",
        "    'Cidade': cidades\n",
        "})\n",
        "\n",
        "df.to_csv('dados_desigualdade_renda.csv', index=False)\n",
        "\n",
        "df.head()"
      ]
    },
    {
      "cell_type": "markdown",
      "source": [
        "#2 - Manipulação e Visualização dos Dados"
      ],
      "metadata": {
        "id": "KXo_RetECrs5"
      }
    },
    {
      "cell_type": "code",
      "source": [
        "import numpy as np\n",
        "import pandas as pd\n",
        "import matplotlib.pyplot as plt\n",
        "from matplotlib.ticker import FuncFormatter\n",
        "\n",
        "\n",
        "# Estatísticas\n",
        "salario_por_genero = df.groupby('Gênero')['Salário (R$)'].mean()\n",
        "desvio_padrao_salario = np.std(df['Salário (R$)'])\n",
        "correlacao_salario_idade = df['Salário (R$)'].corr(df['Idade'])\n",
        "media_por_escolaridade = df.groupby('Nível de Escolaridade')['Salário (R$)'].mean()\n",
        "\n",
        "\n",
        "def menu():\n",
        "    while True:\n",
        "        print(\"\\n\\033[1;34m--- MENU DE ANÁLISE DE DADOS ---\\033[0m\")\n",
        "        print(\"\\033[1m1 - Média Salarial por Gênero\\033[0m\")\n",
        "        print(\"\\033[1m2 - Desvio Padrão do Salário\\033[0m\")\n",
        "        print(\"\\033[1m3 - Correlação entre Salário e Idade\\033[0m\")\n",
        "        print(\"\\033[1m4 - Média Salarial por Escolaridade\\033[0m\")\n",
        "        print(\"\\033[1;31m0 - Sair\\033[0m\")\n",
        "\n",
        "        opcao = input(\"\\nEscolha uma opção: \")\n",
        "\n",
        "        if opcao == \"1\":\n",
        "            print(\"\\n\\033[1;32mMédia Salarial por Gênero:\\033[0m\")\n",
        "            print(salario_por_genero.round(2))\n",
        "\n",
        "            plt.figure(figsize=(8, 5))\n",
        "            salario_por_genero.plot(kind='bar', color=['skyblue', 'lightcoral', 'green'])\n",
        "            plt.title('Média de Salário por Gênero')\n",
        "            plt.xlabel('Gênero')\n",
        "            plt.ylabel('Média de Salário (R$)')\n",
        "            plt.xticks(rotation=0)\n",
        "            plt.grid(True)\n",
        "            formatter = FuncFormatter(lambda x, _: f'R${x:,.0f}')\n",
        "            plt.gca().yaxis.set_major_formatter(formatter)\n",
        "            plt.show()\n",
        "\n",
        "        elif opcao == \"2\":\n",
        "            print(f'\\n\\033[1;35mDesvio padrão do salário: R${desvio_padrao_salario:.2f}\\033[0m')\n",
        "\n",
        "        elif opcao == \"3\":\n",
        "            print(\"\\n\\033[1;36mCorrelação entre Salário e Idade:\\033[0m\")\n",
        "            print(f'{correlacao_salario_idade:.4f}')\n",
        "            plt.figure(figsize=(8, 5))\n",
        "            plt.scatter(df['Idade'], df['Salário (R$)'], alpha=0.5, color='purple')\n",
        "            plt.title(f'Correlação entre Salário e Idade (Correlação: {correlacao_salario_idade:.4f})')\n",
        "            plt.xlabel('Idade')\n",
        "            plt.ylabel('Salário (R$)')\n",
        "            plt.grid(True)\n",
        "            formatter = FuncFormatter(lambda x, _: f'R${x:,.0f}')\n",
        "            plt.gca().yaxis.set_major_formatter(formatter)\n",
        "            plt.show()\n",
        "\n",
        "        elif opcao == \"4\":\n",
        "            print(\"\\n\\033[1;33mMédia de salário por Nível de Escolaridade:\\033[0m\")\n",
        "            print(media_por_escolaridade.round(2))\n",
        "\n",
        "            plt.figure(figsize=(10, 6))\n",
        "            media_por_escolaridade.plot(kind='bar', color='lightgreen')\n",
        "            plt.title('Média de Salário por Nível de Escolaridade')\n",
        "            plt.xlabel('Nível de Escolaridade')\n",
        "            plt.ylabel('Média de Salário (R$)')\n",
        "            plt.xticks(rotation=45, ha='right')\n",
        "            plt.grid(True)\n",
        "            formatter = FuncFormatter(lambda x, _: f'R${x:,.0f}')\n",
        "            plt.gca().yaxis.set_major_formatter(formatter)\n",
        "            plt.show()\n",
        "\n",
        "        elif opcao == \"0\":\n",
        "            print(\"\\n\\033[1;31mSaindo do programa...\\033[0m\")\n",
        "            break\n",
        "\n",
        "        else:\n",
        "            print(\"\\n\\033[1;31mOpção inválida! Tente novamente.\\033[0m\")\n",
        "\n",
        "\n",
        "menu()\n"
      ],
      "metadata": {
        "id": "R0XjnTmG-i6W"
      },
      "execution_count": null,
      "outputs": []
    },
    {
      "cell_type": "markdown",
      "source": [
        "#Relatório"
      ],
      "metadata": {
        "id": "pnhL0GZKHJMx"
      }
    },
    {
      "cell_type": "markdown",
      "source": [
        "#Relatório de Análise de Dados sobre Desigualdade Salarial\n",
        "\n",
        "##Introdução\n",
        "Este relatório analisa um conjunto de dados fictício gerado aleatoriamente, com o objetivo de demonstrar como calcular e visualizar métricas como a média salarial por gênero, o desvio padrão do salário, a correlação entre salário e idade, e a média salarial por nível de escolaridade. Utilizamos as bibliotecas Faker, Pandas, NumPy e Matplotlib para realizar a análise e gerar os gráficos.\n",
        "\n",
        "#Explicação do Código\n",
        "\n",
        "Geração dos Dados: Criamos 800 registros fictícios com informações como nome, idade, gênero, escolaridade, e salário.\n",
        "\n",
        "Análise Estatística: Calculamos médias salariais por gênero e escolaridade, o desvio padrão do salário e a correlação entre salário e idade.\n",
        "\n",
        "Visualização: Geramos gráficos para ilustrar a distribuição dos salários por gênero e escolaridade.\n",
        "\n",
        "Interpretação dos Resultados\n",
        "Os dados foram gerados aleatoriamente, então as conclusões não refletem realidades sociais. No entanto, os resultados demonstram:\n",
        "\n",
        "Média Salarial por Gênero: Exibe diferenças médias entre os gêneros, mas sem base real.\n",
        "\n",
        "Desvio Padrão do Salário: Alta variação salarial, mas sem significância devido à aleatoriedade.\n",
        "\n",
        "Correlação entre Salário e Idade: Correlação fraca, sem relação real.\n",
        "\n",
        "Média Salarial por Nível de Escolaridade: Mostra salários mais altos com maior escolaridade, mas sem significado real.\n",
        "\n",
        "Limitações\n",
        "\n",
        "Os dados são aleatórios e não representam uma população real.\n",
        "\n",
        "As conclusões não devem ser aplicadas ao mundo real.\n",
        "\n",
        "O objetivo principal foi demonstrar o uso de técnicas de análise de dados, não tirar conclusões sociais.\n",
        "\n",
        "Conclusão\n",
        "Este exercício tem valor educacional, mostrando como aplicar técnicas de análise de dados. Em um estudo real, seria necessário usar dados reais para tirar conclusões significativas.\n"
      ],
      "metadata": {
        "id": "uxQj27qnHN-0"
      }
    }
  ]
}